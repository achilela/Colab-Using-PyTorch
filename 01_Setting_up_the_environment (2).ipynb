{
  "nbformat": 4,
  "nbformat_minor": 0,
  "metadata": {
    "colab": {
      "provenance": []
    },
    "kernelspec": {
      "display_name": "Python 3",
      "name": "python3"
    }
  },
  "cells": [
    {
      "cell_type": "markdown",
      "metadata": {
        "id": "view-in-github"
      },
      "source": [
        "<a href=\"https://colab.research.google.com/github/crow-intelligence/gettingStartedWithColab/blob/main/01_Setting_up_the_environment.ipynb\" target=\"_parent\"><img src=\"https://colab.research.google.com/assets/colab-badge.svg\" alt=\"Open In Colab\"/></a>"
      ]
    },
    {
      "cell_type": "markdown",
      "metadata": {
        "id": "cZ7R94San8Fk"
      },
      "source": [
        "# Milestone 1\n",
        "## Setting up the environment\n",
        "\n",
        "### Pythagorean theorem\n",
        "The theorem says: $a^2+b^2=c^2$. We'd like to implement a function which computes the hypotenuse given the adjacent and the opposite. So, the function\n",
        "will compute $c=\\sqrt{a^2 + b^2}$."
      ]
    },
    {
      "cell_type": "code",
      "metadata": {
        "id": "8dgYBtbenuFu"
      },
      "source": [
        "def pythagorean(a,b):\n",
        "  import math\n",
        "  \"\"\"Given the adjacent and the opposite, returns the hypotenuse\n",
        "  Args:\n",
        "    a (int): the adjacent\n",
        "    b (int): the opposite\n",
        "\n",
        "  Returns:\n",
        "    int: the opposite\n",
        "  \"\"\"\n",
        "  return math.sqrt((a**2) + (b**2))"
      ],
      "execution_count": 1,
      "outputs": []
    },
    {
      "cell_type": "markdown",
      "metadata": {
        "id": "vQkmMv3fpCqP"
      },
      "source": [
        "And let's try out the function with a few arguments:"
      ]
    },
    {
      "cell_type": "code",
      "metadata": {
        "id": "lrhALD59pI76",
        "outputId": "9d9b83d9-2ffa-411c-fa3b-2c9d118d5118",
        "colab": {
          "base_uri": "https://localhost:8080/"
        }
      },
      "source": [
        "print(pythagorean(1,1))\n",
        "print(pythagorean(2,1))\n",
        "print(pythagorean(2,2))\n",
        "print(pythagorean(2,10))"
      ],
      "execution_count": 2,
      "outputs": [
        {
          "output_type": "stream",
          "name": "stdout",
          "text": [
            "1.4142135623730951\n",
            "2.23606797749979\n",
            "2.8284271247461903\n",
            "10.198039027185569\n"
          ]
        }
      ]
    },
    {
      "cell_type": "markdown",
      "metadata": {
        "id": "AtsMAXZKx6-h"
      },
      "source": [
        "# Naive Bayes\n",
        "We will train a [Multinomial Naive Bayes](http://www.dt.fee.unicamp.br/~tiago/smsspamcollection/) classifier on the SMS Spam Collection using scikit learn.\n",
        "## Mount Google Drive"
      ]
    },
    {
      "cell_type": "code",
      "metadata": {
        "id": "wfCvf9NfzfCu",
        "outputId": "3eeb630a-16ee-4337-a575-781d8b19b1f2",
        "colab": {
          "base_uri": "https://localhost:8080/"
        }
      },
      "source": [
        "from google.colab import drive\n",
        "drive.mount('/content/drive', force_remount=True)"
      ],
      "execution_count": 3,
      "outputs": [
        {
          "output_type": "stream",
          "name": "stdout",
          "text": [
            "Mounted at /content/drive\n"
          ]
        }
      ]
    },
    {
      "cell_type": "markdown",
      "metadata": {
        "id": "S_arNPcDzpxj"
      },
      "source": [
        "You can access your folder with the prefix \"/content/drive/My Drive/\".\n",
        "## Scikit-learn Multinomial"
      ]
    },
    {
      "cell_type": "code",
      "metadata": {
        "id": "nV2YBQ0Vx9kT",
        "outputId": "a23d9836-84b0-412c-aa6b-f978349bd621",
        "colab": {
          "base_uri": "https://localhost:8080/"
        }
      },
      "source": [
        "import pickle\n",
        "import string\n",
        "\n",
        "from joblib import dump, load\n",
        "from sklearn.feature_extraction.text import CountVectorizer\n",
        "from sklearn.model_selection import train_test_split\n",
        "from sklearn.naive_bayes import MultinomialNB\n",
        "\n",
        "# Load raw data\n",
        "texts = []\n",
        "labels = []\n",
        "with open(\"/content/drive/MyDrive/Colab Using PyTorch/SMSSpamCollection.txt\", \"r\") as infile:\n",
        "  for l in infile:\n",
        "    label, text = l.strip().split(\"\\t\")\n",
        "    labels.append(label)\n",
        "    text = \"\".join([ch.lower() for ch in text if ch not in string.punctuation])\n",
        "    texts.append(text)\n",
        "\n",
        "# train-test split\n",
        "X_train_raw, X_test_raw, y_train, y_test = train_test_split(texts, labels, random_state=42)\n",
        "\n",
        "# vectorize training and test\n",
        "vectorizer = CountVectorizer() # only training vocab counts!\n",
        "X_train = vectorizer.fit_transform(X_train_raw)\n",
        "vctrzr = CountVectorizer(vocabulary=vectorizer.vocabulary_)\n",
        "X_test = vctrzr.fit_transform(X_test_raw)\n",
        "\n",
        "to_be_saved = [X_train, X_test, y_train, y_test]\n",
        "with open(\"/content/drive/MyDrive/Colab Using PyTorch/vectorized_data.p\", \"wb\") as outfile:\n",
        "  pickle.dump(to_be_saved, outfile)\n",
        "\n",
        "# train MultinomialNB\n",
        "clf = MultinomialNB()\n",
        "clf.fit(X_train, y_train)\n",
        "\n",
        "dump(clf, \"/content/drive/MyDrive/Colab Using PyTorch/01_models/NB.joblib\")\n"
      ],
      "execution_count": 6,
      "outputs": [
        {
          "output_type": "execute_result",
          "data": {
            "text/plain": [
              "['/content/drive/MyDrive/Colab Using PyTorch/01_models/NB.joblib']"
            ]
          },
          "metadata": {},
          "execution_count": 6
        }
      ]
    },
    {
      "cell_type": "code",
      "metadata": {
        "id": "oy7hZG0RazI8",
        "outputId": "1fe4aa8d-9b68-4cf5-ee0b-9e0890f3c45e",
        "colab": {
          "base_uri": "https://localhost:8080/"
        }
      },
      "source": [
        "print(len(X_train.toarray()[0]))"
      ],
      "execution_count": 7,
      "outputs": [
        {
          "output_type": "stream",
          "name": "stdout",
          "text": [
            "8110\n"
          ]
        }
      ]
    },
    {
      "cell_type": "markdown",
      "metadata": {
        "id": "ysk5pVVV0O52"
      },
      "source": [
        "## Load & evaluate"
      ]
    },
    {
      "cell_type": "code",
      "metadata": {
        "id": "fDTAalV40Scr",
        "outputId": "a29f4766-0f67-4b24-fec1-c5cf9adecbf2",
        "colab": {
          "base_uri": "https://localhost:8080/"
        }
      },
      "source": [
        "from sklearn.metrics import classification_report\n",
        "\n",
        "clf = load(\"/content/drive/MyDrive/Colab Using PyTorch/01_models/NB.joblib\")\n",
        "y_pred = clf.predict(X_test)\n",
        "\n",
        "print(classification_report(y_test, y_pred))"
      ],
      "execution_count": 9,
      "outputs": [
        {
          "output_type": "stream",
          "name": "stdout",
          "text": [
            "              precision    recall  f1-score   support\n",
            "\n",
            "         ham       0.99      1.00      0.99      1203\n",
            "        spam       0.97      0.92      0.95       191\n",
            "\n",
            "    accuracy                           0.99      1394\n",
            "   macro avg       0.98      0.96      0.97      1394\n",
            "weighted avg       0.99      0.99      0.99      1394\n",
            "\n"
          ]
        }
      ]
    },
    {
      "cell_type": "markdown",
      "metadata": {
        "id": "aDhtMDEILGCC"
      },
      "source": [
        "Now, we are ready to move on to Milestone 2."
      ]
    }
  ]
}